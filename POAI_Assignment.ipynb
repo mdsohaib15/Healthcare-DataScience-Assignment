{
 "cells": [
  {
   "cell_type": "markdown",
   "id": "690b2338",
   "metadata": {},
   "source": [
    "<h1 align='center' style='color:red'>Name: Muhammad Sohaib</h1>\n",
    "<h1 align='center' style='color:red'>Roll No: 22F-BSAI-40</h1>\n",
    "<h1 align='center' style='color:red'>Department: BS-Artificail Intelligence</h1>\n",
    "<h1 align='center' style='color:red'>Course: Programming of AI</h1>\n",
    "<h1 align='center' style='color:red'>Submitted to: Sir Hamza Farooqui</h1>\n"
   ]
  },
  {
   "cell_type": "code",
   "execution_count": 19,
   "id": "586bec35",
   "metadata": {},
   "outputs": [],
   "source": [
    "import pandas as pd\n",
    "import numpy as np\n",
    "import matplotlib.pyplot as plt\n",
    "import seaborn as sns\n",
    "\n",
    "from sklearn.feature_selection import VarianceThreshold\n",
    "from scipy.stats import ttest_1samp, chi2_contingency\n",
    "from scipy.integrate import odeint, solve_ivp"
   ]
  },
  {
   "cell_type": "markdown",
   "id": "9659bb5a",
   "metadata": {},
   "source": [
    "# Q1: Outlier Detection and Feature Reduction"
   ]
  },
  {
   "cell_type": "code",
   "execution_count": 20,
   "id": "f93dfb0d",
   "metadata": {},
   "outputs": [
    {
     "data": {
      "text/html": [
       "<div>\n",
       "<style scoped>\n",
       "    .dataframe tbody tr th:only-of-type {\n",
       "        vertical-align: middle;\n",
       "    }\n",
       "\n",
       "    .dataframe tbody tr th {\n",
       "        vertical-align: top;\n",
       "    }\n",
       "\n",
       "    .dataframe thead th {\n",
       "        text-align: right;\n",
       "    }\n",
       "</style>\n",
       "<table border=\"1\" class=\"dataframe\">\n",
       "  <thead>\n",
       "    <tr style=\"text-align: right;\">\n",
       "      <th></th>\n",
       "      <th>PatientID</th>\n",
       "      <th>Gender</th>\n",
       "      <th>Age</th>\n",
       "      <th>CholesterolLevel</th>\n",
       "      <th>BloodPressure</th>\n",
       "      <th>Region</th>\n",
       "      <th>RiskCategory</th>\n",
       "    </tr>\n",
       "  </thead>\n",
       "  <tbody>\n",
       "    <tr>\n",
       "      <th>0</th>\n",
       "      <td>1</td>\n",
       "      <td>Male</td>\n",
       "      <td>37</td>\n",
       "      <td>193.4</td>\n",
       "      <td>129.4</td>\n",
       "      <td>East</td>\n",
       "      <td>High</td>\n",
       "    </tr>\n",
       "    <tr>\n",
       "      <th>1</th>\n",
       "      <td>2</td>\n",
       "      <td>Female</td>\n",
       "      <td>45</td>\n",
       "      <td>210.7</td>\n",
       "      <td>107.1</td>\n",
       "      <td>West</td>\n",
       "      <td>Low</td>\n",
       "    </tr>\n",
       "    <tr>\n",
       "      <th>2</th>\n",
       "      <td>3</td>\n",
       "      <td>Male</td>\n",
       "      <td>63</td>\n",
       "      <td>244.3</td>\n",
       "      <td>103.9</td>\n",
       "      <td>West</td>\n",
       "      <td>Low</td>\n",
       "    </tr>\n",
       "    <tr>\n",
       "      <th>3</th>\n",
       "      <td>4</td>\n",
       "      <td>Male</td>\n",
       "      <td>53</td>\n",
       "      <td>184.5</td>\n",
       "      <td>127.2</td>\n",
       "      <td>West</td>\n",
       "      <td>High</td>\n",
       "    </tr>\n",
       "    <tr>\n",
       "      <th>4</th>\n",
       "      <td>5</td>\n",
       "      <td>Male</td>\n",
       "      <td>29</td>\n",
       "      <td>175.7</td>\n",
       "      <td>116.6</td>\n",
       "      <td>South</td>\n",
       "      <td>High</td>\n",
       "    </tr>\n",
       "  </tbody>\n",
       "</table>\n",
       "</div>"
      ],
      "text/plain": [
       "   PatientID  Gender  Age  CholesterolLevel  BloodPressure Region RiskCategory\n",
       "0          1    Male   37             193.4          129.4   East         High\n",
       "1          2  Female   45             210.7          107.1   West          Low\n",
       "2          3    Male   63             244.3          103.9   West          Low\n",
       "3          4    Male   53             184.5          127.2   West         High\n",
       "4          5    Male   29             175.7          116.6  South         High"
      ]
     },
     "execution_count": 20,
     "metadata": {},
     "output_type": "execute_result"
    }
   ],
   "source": [
    "df = pd.read_csv('patient_data.csv')  \n",
    "df.head()"
   ]
  },
  {
   "cell_type": "markdown",
   "id": "c284dd45",
   "metadata": {},
   "source": [
    "## Feature Reduction"
   ]
  },
  {
   "cell_type": "code",
   "execution_count": 21,
   "id": "68da59c2",
   "metadata": {},
   "outputs": [],
   "source": [
    "selector = VarianceThreshold(threshold=0.0)\n",
    "df_reduced = pd.DataFrame(selector.fit_transform(df.select_dtypes(include='number')),\n",
    "                          columns=df.select_dtypes(include='number').columns[selector.get_support()])"
   ]
  },
  {
   "cell_type": "markdown",
   "id": "d33a8349",
   "metadata": {},
   "source": [
    "## Detect & Remove Outliers from CholesterolLevel"
   ]
  },
  {
   "cell_type": "code",
   "execution_count": 22,
   "id": "15f8e284",
   "metadata": {},
   "outputs": [],
   "source": [
    "Q1 = df_reduced['CholesterolLevel'].quantile(0.25)\n",
    "Q3 = df_reduced['CholesterolLevel'].quantile(0.75)\n",
    "IQR = Q3 - Q1\n",
    "lower_bound = Q1 - 1.5 * IQR\n",
    "upper_bound = Q3 + 1.5 * IQR\n",
    "\n",
    "df_reduced = df_reduced[(df_reduced['CholesterolLevel'] >= lower_bound) & \n",
    "                        (df_reduced['CholesterolLevel'] <= upper_bound)]"
   ]
  },
  {
   "cell_type": "markdown",
   "id": "0ef5fa86",
   "metadata": {},
   "source": [
    "## Replace Missing Values"
   ]
  },
  {
   "cell_type": "code",
   "execution_count": 23,
   "id": "167b7274",
   "metadata": {},
   "outputs": [
    {
     "data": {
      "text/html": [
       "<div>\n",
       "<style scoped>\n",
       "    .dataframe tbody tr th:only-of-type {\n",
       "        vertical-align: middle;\n",
       "    }\n",
       "\n",
       "    .dataframe tbody tr th {\n",
       "        vertical-align: top;\n",
       "    }\n",
       "\n",
       "    .dataframe thead th {\n",
       "        text-align: right;\n",
       "    }\n",
       "</style>\n",
       "<table border=\"1\" class=\"dataframe\">\n",
       "  <thead>\n",
       "    <tr style=\"text-align: right;\">\n",
       "      <th></th>\n",
       "      <th>PatientID</th>\n",
       "      <th>Age</th>\n",
       "      <th>CholesterolLevel</th>\n",
       "      <th>BloodPressure</th>\n",
       "    </tr>\n",
       "  </thead>\n",
       "  <tbody>\n",
       "    <tr>\n",
       "      <th>0</th>\n",
       "      <td>1.0</td>\n",
       "      <td>37.0</td>\n",
       "      <td>193.4</td>\n",
       "      <td>129.4</td>\n",
       "    </tr>\n",
       "    <tr>\n",
       "      <th>1</th>\n",
       "      <td>2.0</td>\n",
       "      <td>45.0</td>\n",
       "      <td>210.7</td>\n",
       "      <td>107.1</td>\n",
       "    </tr>\n",
       "    <tr>\n",
       "      <th>2</th>\n",
       "      <td>3.0</td>\n",
       "      <td>63.0</td>\n",
       "      <td>244.3</td>\n",
       "      <td>103.9</td>\n",
       "    </tr>\n",
       "    <tr>\n",
       "      <th>3</th>\n",
       "      <td>4.0</td>\n",
       "      <td>53.0</td>\n",
       "      <td>184.5</td>\n",
       "      <td>127.2</td>\n",
       "    </tr>\n",
       "    <tr>\n",
       "      <th>4</th>\n",
       "      <td>5.0</td>\n",
       "      <td>29.0</td>\n",
       "      <td>175.7</td>\n",
       "      <td>116.6</td>\n",
       "    </tr>\n",
       "  </tbody>\n",
       "</table>\n",
       "</div>"
      ],
      "text/plain": [
       "   PatientID   Age  CholesterolLevel  BloodPressure\n",
       "0        1.0  37.0             193.4          129.4\n",
       "1        2.0  45.0             210.7          107.1\n",
       "2        3.0  63.0             244.3          103.9\n",
       "3        4.0  53.0             184.5          127.2\n",
       "4        5.0  29.0             175.7          116.6"
      ]
     },
     "execution_count": 23,
     "metadata": {},
     "output_type": "execute_result"
    }
   ],
   "source": [
    "df_cleaned = df_reduced.fillna(df_reduced.median(numeric_only=True))\n",
    "df_cleaned = df_cleaned.fillna(df_reduced.mode().iloc[0])  \n",
    "df_cleaned.head()"
   ]
  },
  {
   "cell_type": "markdown",
   "id": "5c44db22",
   "metadata": {},
   "source": [
    "# Q2: Data Visualization"
   ]
  },
  {
   "cell_type": "markdown",
   "id": "a9b1d773",
   "metadata": {},
   "source": [
    "## Box Plot: BloodPressure by RiskCategory"
   ]
  },
  {
   "cell_type": "code",
   "execution_count": 24,
   "id": "68d417b3",
   "metadata": {},
   "outputs": [
    {
     "data": {
      "image/png": "[encoded data removed]",
      "text/plain": [
       "<Figure size 640x480 with 1 Axes>"
      ]
     },
     "metadata": {},
     "output_type": "display_data"
    }
   ],
   "source": [
    "sns.boxplot(x='RiskCategory', y='BloodPressure', data=df)\n",
    "plt.title(\"Blood Pressure by Risk Category\")\n",
    "plt.show()"
   ]
  },
  {
   "cell_type": "markdown",
   "id": "353e4e43",
   "metadata": {},
   "source": [
    "## Count Plot: Patients in each RiskCategory per Region"
   ]
  },
  {
   "cell_type": "code",
   "execution_count": 25,
   "id": "2f1ebb38",
   "metadata": {},
   "outputs": [
    {
     "data": {
      "image/png": "[encoded data removed]",
      "text/plain": [
       "<Figure size 640x480 with 1 Axes>"
      ]
     },
     "metadata": {},
     "output_type": "display_data"
    }
   ],
   "source": [
    "sns.countplot(x='Region', hue='RiskCategory', data=df)\n",
    "plt.title(\"Patients per Region by Risk Category\")\n",
    "plt.xticks(rotation=45)\n",
    "plt.show()"
   ]
  },
  {
   "cell_type": "markdown",
   "id": "10869fd9",
   "metadata": {},
   "source": [
    "# Q3: Statistical Hypothesis Testing"
   ]
  },
  {
   "cell_type": "markdown",
   "id": "1026a9d0",
   "metadata": {},
   "source": [
    "## Part 1: Is average Cholesterol Level significantly different from 200 mg/dL?"
   ]
  },
  {
   "cell_type": "code",
   "execution_count": 26,
   "id": "fc28e5b2",
   "metadata": {},
   "outputs": [
    {
     "name": "stdout",
     "output_type": "stream",
     "text": [
      "T-Statistic: 1.169892069971572\n",
      "P-Value: 0.25651089244102654\n",
      "Fail to reject H₀: No significant difference from 200.\n"
     ]
    }
   ],
   "source": [
    "from scipy import stats\n",
    "\n",
    "sample = df['CholesterolLevel'].sample(20, random_state=1)\n",
    "t_stat, p_value = stats.ttest_1samp(sample, 200)\n",
    "\n",
    "print(\"T-Statistic:\", t_stat)\n",
    "print(\"P-Value:\", p_value)\n",
    "\n",
    "# Interpretation\n",
    "if p_value < 0.05:\n",
    "    print(\"Reject H₀: Average CholesterolLevel is significantly different from 200.\")\n",
    "else:\n",
    "    print(\"Fail to reject H₀: No significant difference from 200.\")"
   ]
  },
  {
   "cell_type": "markdown",
   "id": "6156eca3",
   "metadata": {},
   "source": [
    "## Part 2: Is there a significant relationship between Region and RiskCategory?"
   ]
  },
  {
   "cell_type": "code",
   "execution_count": 27,
   "id": "3883240d",
   "metadata": {},
   "outputs": [
    {
     "name": "stdout",
     "output_type": "stream",
     "text": [
      "Chi-square Statistic: 4.537654289304933\n",
      "P-Value: 0.6043217060679176\n",
      "Fail to reject H₀: No significant relationship.\n"
     ]
    }
   ],
   "source": [
    "contingency = pd.crosstab(df['Region'], df['RiskCategory'])\n",
    "chi2, p, dof, expected = stats.chi2_contingency(contingency)\n",
    "\n",
    "print(\"Chi-square Statistic:\", chi2)\n",
    "print(\"P-Value:\", p)\n",
    "\n",
    "if p < 0.05:\n",
    "    print(\"Reject H₀: There is a significant relationship between Region and RiskCategory.\")\n",
    "else:\n",
    "    print(\"Fail to reject H₀: No significant relationship.\")"
   ]
  },
  {
   "cell_type": "markdown",
   "id": "7be6e684",
   "metadata": {},
   "source": [
    "# Q4: Modeling a Health System with ODE"
   ]
  },
  {
   "cell_type": "code",
   "execution_count": 28,
   "id": "4546741e",
   "metadata": {},
   "outputs": [
    {
     "data": {
      "image/png": "[encoded data removed]",
      "text/plain": [
       "<Figure size 640x480 with 1 Axes>"
      ]
     },
     "metadata": {},
     "output_type": "display_data"
    }
   ],
   "source": [
    "# Parameters\n",
    "k = 0.1\n",
    "D = 100\n",
    "\n",
    "# ODE Function\n",
    "def model(C, t):\n",
    "    return k * (D - C)\n",
    "\n",
    "t = np.linspace(0, 50, 200)\n",
    "C0 = 0\n",
    "\n",
    "# Using odeint\n",
    "C_odeint = odeint(model, C0, t)\n",
    "\n",
    "# Using solve_ivp\n",
    "def model_ivp(t, C):\n",
    "    return k * (D - C)\n",
    "\n",
    "sol = solve_ivp(model_ivp, [0, 50], [0], t_eval=t)\n",
    "\n",
    "# Plotting\n",
    "plt.plot(t, C_odeint, label='odeint')\n",
    "plt.plot(sol.t, sol.y[0], '--', label='solve_ivp')\n",
    "plt.title(\"Medication Concentration Over Time\")\n",
    "plt.xlabel(\"Time\")\n",
    "plt.ylabel(\"Concentration\")\n",
    "plt.legend()\n",
    "plt.grid(True)\n",
    "plt.show()"
   ]
  },
  {
   "cell_type": "markdown",
   "id": "6b37301d",
   "metadata": {},
   "source": [
    "Both solvers produce similar results for this simple ODE, but solve_ivp offers more flexibility and control, while odeint is simpler and often faster."
   ]
  },
  {
   "cell_type": "markdown",
   "id": "e5c2b38c",
   "metadata": {},
   "source": []
  }
 ],
 "metadata": {
  "kernelspec": {
   "display_name": "base",
   "language": "python",
   "name": "python3"
  },
  "language_info": {
   "codemirror_mode": {
    "name": "ipython",
    "version": 3
   },
   "file_extension": ".py",
   "mimetype": "text/x-python",
   "name": "python",
   "nbconvert_exporter": "python",
   "pygments_lexer": "ipython3",
   "version": "3.12.7"
  }
 },
 "nbformat": 4,
 "nbformat_minor": 5
}
